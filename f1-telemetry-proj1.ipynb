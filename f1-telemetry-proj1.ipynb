{
 "cells": [
  {
   "cell_type": "code",
   "execution_count": null,
   "metadata": {
    "colab": {
     "base_uri": "https://localhost:8080/"
    },
    "executionInfo": {
     "elapsed": 14157,
     "status": "ok",
     "timestamp": 1757170116860,
     "user": {
      "displayName": "Maanya Malhotra",
      "userId": "06985675632662431736"
     },
     "user_tz": -480
    },
    "id": "nBYPw4BfSBDt",
    "outputId": "d62e0e6b-7eee-4b83-e1a3-ef268f98e781"
   },
   "outputs": [],
   "source": [
    "!pip install fastf1 plotly matplotlib pandas numpy pyarrow"
   ]
  },
  {
   "cell_type": "code",
   "execution_count": null,
   "metadata": {
    "colab": {
     "base_uri": "https://localhost:8080/"
    },
    "executionInfo": {
     "elapsed": 9,
     "status": "ok",
     "timestamp": 1757170116874,
     "user": {
      "displayName": "Maanya Malhotra",
      "userId": "06985675632662431736"
     },
     "user_tz": -480
    },
    "id": "HqFyy9_kQCt2",
    "outputId": "a02460ff-2f06-4d77-c2c3-6e13f474aaf9"
   },
   "outputs": [],
   "source": [
    "#imports\n",
    "\n",
    "import fastf1, pandas as pd, numpy as np, matplotlib.pyplot as plt, plotly.express as px, pyarrow\n",
    "print(\"FastF1:\", fastf1.__version__)"
   ]
  },
  {
   "cell_type": "code",
   "execution_count": null,
   "metadata": {
    "colab": {
     "base_uri": "https://localhost:8080/"
    },
    "executionInfo": {
     "elapsed": 3218,
     "status": "ok",
     "timestamp": 1757170120093,
     "user": {
      "displayName": "Maanya Malhotra",
      "userId": "06985675632662431736"
     },
     "user_tz": -480
    },
    "id": "LfWwGVl6RsCq",
    "outputId": "3d0579d4-de1b-49df-af89-a3620d19883c"
   },
   "outputs": [],
   "source": [
    "from pathlib import Path\n",
    "\n",
    "PROJECT_PATH = Path(\"..\").resolve()\n",
    "\n",
    "cache_dir = PROJECT_PATH / \"f1cache\"\n",
    "cache_dir.mkdir(exist_ok=True)\n",
    "\n",
    "import fastf1\n",
    "fastf1.Cache.enable_cache(cache_dir)\n",
    "\n",
    "print(\"Cache set to:\", cache_dir)\n"
   ]
  },
  {
   "cell_type": "code",
   "execution_count": null,
   "metadata": {
    "colab": {
     "base_uri": "https://localhost:8080/"
    },
    "executionInfo": {
     "elapsed": 7577,
     "status": "ok",
     "timestamp": 1757170127674,
     "user": {
      "displayName": "Maanya Malhotra",
      "userId": "06985675632662431736"
     },
     "user_tz": -480
    },
    "id": "9GMBQ-WmTDy1",
    "outputId": "f55ea2b9-73f3-4268-b480-b4cce11e621e"
   },
   "outputs": [],
   "source": [
    "#Race Setup\n",
    "session = fastf1.get_session(2024, \"Monza\", \"R\")\n",
    "session.load()\n",
    "print(session)\n",
    "\n",
    "#Driver Setup - Max Verstappen and Lewis Hamilton\n",
    "ver_lap = session.laps.pick_driver(\"VER\").pick_fastest()\n",
    "ham_lap = session.laps.pick_driver(\"HAM\").pick_fastest()\n",
    "print(ver_lap)\n",
    "print(ham_lap)\n",
    "\n"
   ]
  },
  {
   "cell_type": "code",
   "execution_count": null,
   "metadata": {
    "colab": {
     "base_uri": "https://localhost:8080/"
    },
    "executionInfo": {
     "elapsed": 35,
     "status": "ok",
     "timestamp": 1757170127712,
     "user": {
      "displayName": "Maanya Malhotra",
      "userId": "06985675632662431736"
     },
     "user_tz": -480
    },
    "id": "rPI2SyvyV03y",
    "outputId": "9fca0d57-4d48-4961-d816-8dbe74251ce3"
   },
   "outputs": [],
   "source": [
    "#obtaining telemetry data for each driver\n",
    "\n",
    "ver_tel = ver_lap.get_car_data().add_distance()\n",
    "ham_tel = ham_lap.get_car_data().add_distance()\n",
    "\n",
    "print(ver_tel)\n",
    "print(ham_tel)"
   ]
  },
  {
   "cell_type": "code",
   "execution_count": null,
   "metadata": {
    "executionInfo": {
     "elapsed": 41,
     "status": "ok",
     "timestamp": 1757170127762,
     "user": {
      "displayName": "Maanya Malhotra",
      "userId": "06985675632662431736"
     },
     "user_tz": -480
    },
    "id": "W8L_7kpHXXsZ"
   },
   "outputs": [],
   "source": [
    "ver_tel['Driver'] = 'Ver'\n",
    "ham_tel['Driver'] = 'Ham'"
   ]
  },
  {
   "cell_type": "code",
   "execution_count": null,
   "metadata": {
    "colab": {
     "base_uri": "https://localhost:8080/"
    },
    "executionInfo": {
     "elapsed": 3,
     "status": "ok",
     "timestamp": 1757170127766,
     "user": {
      "displayName": "Maanya Malhotra",
      "userId": "06985675632662431736"
     },
     "user_tz": -480
    },
    "id": "pXhFewa1Xjfm",
    "outputId": "3adba515-c9f1-4184-d6e4-68527794d987"
   },
   "outputs": [],
   "source": [
    "both_tel = pd.concat([ver_tel,ham_tel])\n",
    "print(both_tel)"
   ]
  },
  {
   "cell_type": "code",
   "execution_count": null,
   "metadata": {
    "executionInfo": {
     "elapsed": 89,
     "status": "ok",
     "timestamp": 1757170127856,
     "user": {
      "displayName": "Maanya Malhotra",
      "userId": "06985675632662431736"
     },
     "user_tz": -480
    },
    "id": "qtzaP8dHWoug"
   },
   "outputs": [],
   "source": [
    "dmin = max(ver_tel['Distance'].min(), ham_tel['Distance'].min())\n",
    "dmax = min(ver_tel['Distance'].max(), ham_tel['Distance'].max())\n",
    "distance = np.linspace(dmin, dmax, 2000)\n",
    "\n",
    "def interp_col(df, col):\n",
    "    return np.interp(distance, df['Distance'], df[col])\n",
    "\n",
    "merged = pd.DataFrame({\n",
    "    \"Distance\": distance,\n",
    "    \"VER_Speed\": interp_col(ver_tel, \"Speed\"),\n",
    "    \"HAM_Speed\": interp_col(ham_tel, \"Speed\"),\n",
    "    \"VER_Throttle\": interp_col(ver_tel, \"Throttle\"),\n",
    "    \"HAM_Throttle\": interp_col(ham_tel, \"Throttle\"),\n",
    "    \"VER_Brake\": interp_col(ver_tel, \"Brake\"),\n",
    "    \"HAM_Brake\": interp_col(ham_tel, \"Brake\"),\n",
    "    \"VER_nGear\": interp_col(ver_tel, \"nGear\"),\n",
    "    \"HAM_nGear\": interp_col(ham_tel, \"nGear\"),\n",
    "})\n"
   ]
  },
  {
   "cell_type": "code",
   "execution_count": null,
   "metadata": {
    "colab": {
     "base_uri": "https://localhost:8080/",
     "height": 507
    },
    "executionInfo": {
     "elapsed": 1574,
     "status": "ok",
     "timestamp": 1757170129428,
     "user": {
      "displayName": "Maanya Malhotra",
      "userId": "06985675632662431736"
     },
     "user_tz": -480
    },
    "id": "OF9RYJBgS0Nn",
    "outputId": "f877c658-8f62-49f1-b8fd-2ec29c81210c"
   },
   "outputs": [],
   "source": [
    "#speed vs distance plot\n",
    "\n",
    "plt.figure(figsize=(10,5))\n",
    "\n",
    "plt.plot(merged['Distance'], merged[\"VER_Speed\"], label=\"Verstappen\", color=\"blue\")\n",
    "plt.plot(merged['Distance'], merged[\"HAM_Speed\"], label=\"Hamilton\", color=\"red\")\n",
    "\n",
    "plt.xlabel(\"Distance (m)\")\n",
    "plt.ylabel(\"Speed (km/h)\")\n",
    "plt.title(\"Speed vs Distance (fastest lap)\")\n",
    "plt.legend()\n",
    "\n",
    "plt.tight_layout()\n",
    "plt.savefig(os.path.join(PROJECT_PATH, \"output\", \"speed_vs_distance.jpg\"), dpi=150)\n",
    "\n",
    "plt.show()\n"
   ]
  },
  {
   "cell_type": "code",
   "execution_count": null,
   "metadata": {
    "colab": {
     "base_uri": "https://localhost:8080/",
     "height": 507
    },
    "executionInfo": {
     "elapsed": 1730,
     "status": "ok",
     "timestamp": 1757170131158,
     "user": {
      "displayName": "Maanya Malhotra",
      "userId": "06985675632662431736"
     },
     "user_tz": -480
    },
    "id": "MKj-29z7WthA",
    "outputId": "fece524f-4e7d-49c6-b11e-754bae2943e0"
   },
   "outputs": [],
   "source": [
    "#brake vs throttle plot\n",
    "\n",
    "plt.figure(figsize=[10,5])\n",
    "\n",
    "\n",
    "plt.plot(merged['VER_Brake'], merged[\"VER_Throttle\"], label=\"Verstappen\", color=\"blue\")\n",
    "plt.plot(merged['HAM_Brake'], merged[\"HAM_Throttle\"], label=\"Hamilton\", color=\"red\")\n",
    "\n",
    "plt.xlabel(\"Brake\")\n",
    "plt.ylabel(\"Throttle\")\n",
    "plt.title(\"Brake vs Throttle\")\n",
    "plt.legend()\n",
    "\n",
    "plt.tight_layout()\n",
    "plt.savefig(os.path.join(PROJECT_PATH, \"output\", \"brake_vs_throttle.jpg\"), dpi=150)\n",
    "\n",
    "plt.show()\n"
   ]
  },
  {
   "cell_type": "code",
   "execution_count": null,
   "metadata": {
    "executionInfo": {
     "elapsed": 4,
     "status": "ok",
     "timestamp": 1757170131159,
     "user": {
      "displayName": "Maanya Malhotra",
      "userId": "06985675632662431736"
     },
     "user_tz": -480
    },
    "id": "wQpXTUbtY-Qh"
   },
   "outputs": [],
   "source": [
    "#delta time array\n",
    "\n",
    "v_ver = merged[\"VER_Speed\"] * 1000 / 3600\n",
    "v_ham = merged[\"HAM_Speed\"] * 1000 / 3600\n",
    "\n",
    "ds = np.gradient(merged[\"Distance\"].values)\n",
    "\n",
    "tiny = 1e-6\n",
    "dt_ver = ds / np.clip(v_ver, tiny, None)\n",
    "dt_ham = ds / np.clip(v_ham, tiny, None)\n",
    "\n",
    "t_ver = np.cumsum(dt_ver)\n",
    "t_ham = np.cumsum(dt_ham)\n",
    "\n",
    "t_ver = t_ver - t_ver[0]\n",
    "t_ham = t_ham - t_ham[0]\n",
    "\n",
    "merged[\"VER_Time\"] = t_ver\n",
    "merged[\"HAM_Time\"] = t_ham\n",
    "merged[\"DeltaTime\"] = t_ver - t_ham\n"
   ]
  },
  {
   "cell_type": "code",
   "execution_count": null,
   "metadata": {
    "colab": {
     "base_uri": "https://localhost:8080/",
     "height": 507
    },
    "executionInfo": {
     "elapsed": 1019,
     "status": "ok",
     "timestamp": 1757170132178,
     "user": {
      "displayName": "Maanya Malhotra",
      "userId": "06985675632662431736"
     },
     "user_tz": -480
    },
    "id": "MmTlFZwfaGSe",
    "outputId": "7b9afd1e-bc27-4d33-8539-37c1bfd877fa"
   },
   "outputs": [],
   "source": [
    "#distance vs delta time\n",
    "import os\n",
    "plt.figure(figsize=[10,5])\n",
    "\n",
    "plt.plot(merged['Distance'], merged[\"VER_Time\"], label=\"Verstappen\", color=\"blue\")\n",
    "plt.plot(merged['Distance'], merged[\"HAM_Time\"], label=\"Hamilton\", color=\"red\")\n",
    "\n",
    "plt.xlabel(\"Distance\")\n",
    "plt.ylabel(\"Delta_Time\")\n",
    "plt.title(\"Distance vs Delta-time\")\n",
    "plt.legend()\n",
    "\n",
    "plt.tight_layout()\n",
    "plt.savefig(os.path.join(PROJECT_PATH, \"output\", \"distance_vs_delta_time.jpg\"), dpi=150)\n",
    "\n",
    "plt.show()"
   ]
  },
  {
   "cell_type": "code",
   "execution_count": null,
   "metadata": {},
   "outputs": [],
   "source": [
    "ver_geo = ver_lap.get_telemetry().add_distance()\n",
    "ham_geo = ham_lap.get_telemetry().add_distance()\n",
    "\n",
    "\n",
    "print(ver_geo.columns)\n"
   ]
  },
  {
   "cell_type": "code",
   "execution_count": null,
   "metadata": {
    "colab": {
     "base_uri": "https://localhost:8080/",
     "height": 1000
    },
    "executionInfo": {
     "elapsed": 532,
     "status": "ok",
     "timestamp": 1757170250783,
     "user": {
      "displayName": "Maanya Malhotra",
      "userId": "06985675632662431736"
     },
     "user_tz": -480
    },
    "id": "H0zCGNYudgDz",
    "outputId": "638a8eb2-f67c-4397-b33e-0ccc11b1fa7b"
   },
   "outputs": [],
   "source": [
    "ver_geo[\"X_flip\"] = ver_geo[\"Y\"]\n",
    "ver_geo[\"Y_flip\"] = ver_geo[\"X\"]\n",
    "\n",
    "ham_geo[\"X_flip\"] = ham_geo[\"Y\"]\n",
    "ham_geo[\"Y_flip\"] = ham_geo[\"X\"]\n",
    "\n",
    "\n",
    "fig_ver_flip = px.scatter(\n",
    "    ver_geo,\n",
    "    x=\"X_flip\", y=\"Y_flip\",\n",
    "    color=\"Speed\",\n",
    "    title=\"Verstappen Racing Line (Flipped Axes, Colored by Speed)\",\n",
    "    labels={\"X_flip\": \"Flipped X\", \"Y_flip\": \"Flipped Y\", \"Speed\": \"Speed (km/h)\"}\n",
    ")\n",
    "fig_ver_flip.update_yaxes(scaleanchor=\"x\", scaleratio=1)\n",
    "fig_ver_flip.update_traces(mode=\"markers\", marker={\"size\": 3})\n",
    "fig_ver_flip.write_html(os.path.join(PROJECT_PATH, \"output\", \"map_VER_flipped.html\"))\n",
    "\n",
    "fig_ham_flip = px.scatter(\n",
    "    ham_geo,\n",
    "    x=\"X_flip\", y=\"Y_flip\",\n",
    "    color=\"Speed\",\n",
    "    title=\"Hamilton Racing Line (Flipped Axes, Colored by Speed)\",\n",
    "    labels={\"X_flip\": \"Flipped X\", \"Y_flip\": \"Flipped Y\", \"Speed\": \"Speed (km/h)\"}\n",
    ")\n",
    "fig_ham_flip.update_yaxes(scaleanchor=\"x\", scaleratio=1)  # keep proportions\n",
    "fig_ham_flip.update_traces(mode=\"markers\", marker={\"size\": 3})\n",
    "fig_ham_flip.write_html(os.path.join(PROJECT_PATH, \"output\", \"map_HAM_flipped.html\"))\n",
    "\n",
    "fig_ver_flip.show()\n",
    "fig_ham_flip.show()\n"
   ]
  },
  {
   "cell_type": "code",
   "execution_count": null,
   "metadata": {
    "colab": {
     "base_uri": "https://localhost:8080/",
     "height": 542
    },
    "executionInfo": {
     "elapsed": 314,
     "status": "ok",
     "timestamp": 1757170310449,
     "user": {
      "displayName": "Maanya Malhotra",
      "userId": "06985675632662431736"
     },
     "user_tz": -480
    },
    "id": "496HJ-geeExE",
    "outputId": "ad313dee-e811-43ba-851c-aabff567001a"
   },
   "outputs": [],
   "source": [
    "import plotly.express as px\n",
    "\n",
    "gear_df = pd.DataFrame({\n",
    "    \"Distance\": merged[\"Distance\"].tolist() * 2,\n",
    "    \"Gear\": pd.concat([merged[\"VER_nGear\"], merged[\"HAM_nGear\"]], ignore_index=True),\n",
    "    \"Driver\": [\"VER\"] * len(merged) + [\"HAM\"] * len(merged)\n",
    "})\n",
    "\n",
    "fig_gear = px.scatter(\n",
    "    gear_df,\n",
    "    x=\"Distance\", y=\"Gear\",\n",
    "    color=\"Driver\",\n",
    "    title=\"Gear Usage vs Distance (Fastest Lap)\",\n",
    "    labels={\"Distance\": \"Distance (m)\", \"Gear\": \"Gear\"},\n",
    "    opacity=0.6\n",
    ")\n",
    "\n",
    "fig_gear.write_html(os.path.join(PROJECT_PATH, \"output\", \"gear_usage.html\"))\n",
    "\n",
    "fig_gear.show()\n"
   ]
  }
 ],
 "metadata": {
  "colab": {
   "authorship_tag": "ABX9TyO2FCgEzvrqiXXZ2qi2XLhT",
   "provenance": []
  },
  "kernelspec": {
   "display_name": "Python 3 (ipykernel)",
   "language": "python",
   "name": "python3"
  },
  "language_info": {
   "codemirror_mode": {
    "name": "ipython",
    "version": 3
   },
   "file_extension": ".py",
   "mimetype": "text/x-python",
   "name": "python",
   "nbconvert_exporter": "python",
   "pygments_lexer": "ipython3",
   "version": "3.12.7"
  }
 },
 "nbformat": 4,
 "nbformat_minor": 4
}
